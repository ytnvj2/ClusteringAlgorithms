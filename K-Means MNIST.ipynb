{
 "cells": [
  {
   "cell_type": "code",
   "execution_count": 2,
   "metadata": {},
   "outputs": [],
   "source": [
    "import matplotlib.pyplot as plt\n",
    "import pandas as pd\n",
    "import numpy as np"
   ]
  },
  {
   "cell_type": "code",
   "execution_count": 43,
   "metadata": {},
   "outputs": [],
   "source": [
    "def soft_kmeans(X,K=3,b=1.0):\n",
    "    # Soft K-Means\n",
    "    N=X.shape[0]\n",
    "    y=np.zeros((N,K))\n",
    "    C=list(X[np.random.choice(N,K)])\n",
    "    exps=np.empty((N,K))\n",
    "    iter=0\n",
    "    while True:\n",
    "        iter=iter+1\n",
    "        for i in range(N):\n",
    "            d=[]\n",
    "            for k in range(K):\n",
    "                d.append(distance(X[i],C[k]))\n",
    "            d=np.array(d)\n",
    "            exps[i,:]=np.exp(-b*d)\n",
    "        R=exps/exps.sum(axis=1,keepdims=True)\n",
    "        y=R.argmax(axis=1)\n",
    "        print(iter,cost_kmeans_soft(X,C,R))\n",
    "        new_C = R.T.dot(X)/ R.sum(axis=0, keepdims=True).T\n",
    "        if np.abs((C-new_C).sum())<0.01:\n",
    "            break\n",
    "        C=new_C\n",
    "    return y,R,C"
   ]
  },
  {
   "cell_type": "code",
   "execution_count": 25,
   "metadata": {},
   "outputs": [],
   "source": [
    "def cost_kmeans_soft(X,C,R):\n",
    "    cost = 0\n",
    "    for k in range(len(C)):\n",
    "        diff = X - C[k]\n",
    "        sq_distances = (diff * diff).sum(axis=1)\n",
    "        cost += (R[:,k] * sq_distances).sum()\n",
    "    return cost"
   ]
  },
  {
   "cell_type": "code",
   "execution_count": 26,
   "metadata": {},
   "outputs": [],
   "source": [
    "def distance(x1,x2):\n",
    "    diff=x1-x2\n",
    "    return np.sqrt((diff**2).sum())"
   ]
  },
  {
   "cell_type": "code",
   "execution_count": 27,
   "metadata": {},
   "outputs": [],
   "source": [
    "df=pd.read_csv('C:/Users/ya391860/Downloads/digit-recognizer/train.csv')"
   ]
  },
  {
   "cell_type": "code",
   "execution_count": 28,
   "metadata": {},
   "outputs": [],
   "source": [
    "test=pd.read_csv('C:/Users/ya391860/Downloads/digit-recognizer/test.csv')"
   ]
  },
  {
   "cell_type": "code",
   "execution_count": 29,
   "metadata": {},
   "outputs": [],
   "source": [
    "df=df.iloc[:1000]"
   ]
  },
  {
   "cell_type": "code",
   "execution_count": 30,
   "metadata": {},
   "outputs": [
    {
     "data": {
      "text/plain": [
       "(1000, 785)"
      ]
     },
     "execution_count": 30,
     "metadata": {},
     "output_type": "execute_result"
    }
   ],
   "source": [
    "df.shape"
   ]
  },
  {
   "cell_type": "code",
   "execution_count": 31,
   "metadata": {},
   "outputs": [],
   "source": [
    "X=df.iloc[:,1:].values\n",
    "y=df.iloc[:,0].values"
   ]
  },
  {
   "cell_type": "code",
   "execution_count": 32,
   "metadata": {},
   "outputs": [
    {
     "data": {
      "text/plain": [
       "(1000, 784)"
      ]
     },
     "execution_count": 32,
     "metadata": {},
     "output_type": "execute_result"
    }
   ],
   "source": [
    "X.shape"
   ]
  },
  {
   "cell_type": "code",
   "execution_count": 33,
   "metadata": {},
   "outputs": [
    {
     "data": {
      "text/plain": [
       "(1000,)"
      ]
     },
     "execution_count": 33,
     "metadata": {},
     "output_type": "execute_result"
    }
   ],
   "source": [
    "y.shape"
   ]
  },
  {
   "cell_type": "code",
   "execution_count": 34,
   "metadata": {
    "scrolled": false
   },
   "outputs": [
    {
     "data": {
      "image/png": "[encoded data removed]",
      "text/plain": [
       "<matplotlib.figure.Figure at 0x26f7543c198>"
      ]
     },
     "metadata": {},
     "output_type": "display_data"
    },
    {
     "data": {
      "image/png": "[encoded data removed]",
      "text/plain": [
       "<matplotlib.figure.Figure at 0x26f75432518>"
      ]
     },
     "metadata": {},
     "output_type": "display_data"
    },
    {
     "data": {
      "image/png": "[encoded data removed]",
      "text/plain": [
       "<matplotlib.figure.Figure at 0x26f753adc50>"
      ]
     },
     "metadata": {},
     "output_type": "display_data"
    },
    {
     "data": {
      "image/png": "[encoded data removed]",
      "text/plain": [
       "<matplotlib.figure.Figure at 0x26f7524b048>"
      ]
     },
     "metadata": {},
     "output_type": "display_data"
    },
    {
     "data": {
      "image/png": "[encoded data removed]",
      "text/plain": [
       "<matplotlib.figure.Figure at 0x26f763d70f0>"
      ]
     },
     "metadata": {},
     "output_type": "display_data"
    },
    {
     "data": {
      "image/png": "[encoded data removed]",
      "text/plain": [
       "<matplotlib.figure.Figure at 0x26f753b7f60>"
      ]
     },
     "metadata": {},
     "output_type": "display_data"
    },
    {
     "data": {
      "image/png": "[encoded data removed]",
      "text/plain": [
       "<matplotlib.figure.Figure at 0x26f7542ab38>"
      ]
     },
     "metadata": {},
     "output_type": "display_data"
    },
    {
     "data": {
      "image/png": "[encoded data removed]",
      "text/plain": [
       "<matplotlib.figure.Figure at 0x26f75b0f208>"
      ]
     },
     "metadata": {},
     "output_type": "display_data"
    },
    {
     "data": {
      "image/png": "[encoded data removed]",
      "text/plain": [
       "<matplotlib.figure.Figure at 0x26f733c3400>"
      ]
     },
     "metadata": {},
     "output_type": "display_data"
    },
    {
     "data": {
      "image/png": "[encoded data removed]",
      "text/plain": [
       "<matplotlib.figure.Figure at 0x26f71bc7710>"
      ]
     },
     "metadata": {},
     "output_type": "display_data"
    }
   ],
   "source": [
    "for i in range(10):\n",
    "    plt.imshow(X[i].reshape(28,28),cmap='gray')\n",
    "    plt.title(y[i])\n",
    "    plt.show()"
   ]
  },
  {
   "cell_type": "code",
   "execution_count": 35,
   "metadata": {},
   "outputs": [],
   "source": [
    "X_scaled=X/255.0"
   ]
  },
  {
   "cell_type": "code",
   "execution_count": 53,
   "metadata": {},
   "outputs": [
    {
     "name": "stdout",
     "output_type": "stream",
     "text": [
      "1 81770.42806416513\n",
      "2 49762.012609023135\n",
      "3 49071.94336993029\n",
      "4 48621.12906878646\n",
      "5 48312.66920942696\n",
      "6 48108.505031555884\n",
      "7 47959.89775859268\n",
      "8 47838.46537728078\n",
      "9 47729.98400155677\n",
      "10 47627.58310877139\n",
      "11 47528.77556037744\n",
      "12 47433.62318687528\n",
      "13 47342.98990075391\n",
      "14 47257.21291605665\n",
      "15 47175.703566924625\n",
      "16 47097.33765502379\n",
      "17 47021.07822578674\n",
      "18 46946.41809566697\n",
      "19 46873.52838517923\n",
      "20 46803.16545213584\n",
      "21 46736.43293734493\n",
      "22 46674.49475790863\n",
      "23 46618.32053730192\n",
      "24 46568.519400513476\n",
      "25 46525.28271214266\n",
      "26 46488.42120833885\n",
      "27 46457.459956365936\n",
      "28 46431.75127300675\n",
      "29 46410.57632275455\n",
      "30 46393.22107450927\n",
      "31 46379.024387239224\n",
      "32 46367.402732495444\n",
      "33 46357.85827071044\n",
      "34 46349.97656773698\n"
     ]
    }
   ],
   "source": [
    "y_preds,R,C=soft_kmeans(X_scaled,K=10,b=2.0)"
   ]
  },
  {
   "cell_type": "code",
   "execution_count": 54,
   "metadata": {},
   "outputs": [
    {
     "data": {
      "text/plain": [
       "0.273"
      ]
     },
     "execution_count": 54,
     "metadata": {},
     "output_type": "execute_result"
    }
   ],
   "source": [
    "np.mean(y_preds==y)"
   ]
  },
  {
   "cell_type": "code",
   "execution_count": 42,
   "metadata": {},
   "outputs": [],
   "source": [
    "# hard labels\n",
    "def purity2(Y, R):\n",
    "    # maximum purity is 1, higher is better\n",
    "    C = np.argmax(R, axis=1) # cluster assignments\n",
    "\n",
    "    N = len(Y) # number of data pts\n",
    "    K = len(set(Y)) # number of labels\n",
    "\n",
    "    total = 0.0\n",
    "    for k in range(K):\n",
    "        max_intersection = 0\n",
    "        for j in range(K):\n",
    "            intersection = ((C == k) & (Y == j)).sum()\n",
    "            if intersection > max_intersection:\n",
    "                max_intersection = intersection\n",
    "        total += max_intersection\n",
    "    return total / N\n",
    "\n",
    "\n",
    "def purity(Y, R):\n",
    "    # maximum purity is 1, higher is better\n",
    "    N, K = R.shape\n",
    "    p = 0\n",
    "    for k in range(K):\n",
    "        best_target = -1 # we don't strictly need to store this\n",
    "        max_intersection = 0\n",
    "        for j in range(K):\n",
    "            intersection = R[Y==j, k].sum()\n",
    "            if intersection > max_intersection:\n",
    "                max_intersection = intersection\n",
    "                best_target = j\n",
    "        p += max_intersection\n",
    "    return p / N\n",
    "\n",
    "\n",
    "# hard labels\n",
    "def DBI2(X, R):\n",
    "    N, D = X.shape\n",
    "    _, K = R.shape\n",
    "\n",
    "    # get sigmas, means first\n",
    "    sigma = np.zeros(K)\n",
    "    M = np.zeros((K, D))\n",
    "    assignments = np.argmax(R, axis=1)\n",
    "    for k in range(K):\n",
    "        Xk = X[assignments == k]\n",
    "        M[k] = Xk.mean(axis=0)\n",
    "        # assert(Xk.mean(axis=0).shape == (D,))\n",
    "        n = len(Xk)\n",
    "        diffs = Xk - M[k]\n",
    "        sq_diffs = diffs * diffs\n",
    "        sigma[k] = np.sqrt( sq_diffs.sum() / n )\n",
    "\n",
    "\n",
    "    # calculate Davies-Bouldin Index\n",
    "    dbi = 0\n",
    "    for k in range(K):\n",
    "        max_ratio = 0\n",
    "        for j in range(K):\n",
    "            if k != j:\n",
    "                numerator = sigma[k] + sigma[j]\n",
    "                denominator = np.linalg.norm(M[k] - M[j])\n",
    "                ratio = numerator / denominator\n",
    "                if ratio > max_ratio:\n",
    "                    max_ratio = ratio\n",
    "        dbi += max_ratio\n",
    "    return dbi / K\n",
    "\n",
    "\n",
    "\n",
    "def DBI(X, M, R):\n",
    "    # ratio between sum of std deviations between 2 clusters / distance between cluster means\n",
    "    # lower is better\n",
    "    N, D = X.shape\n",
    "    K, _ = M.shape\n",
    "\n",
    "    # get sigmas first\n",
    "    sigma = np.zeros(K)\n",
    "    for k in range(K):\n",
    "        diffs = X - M[k] # should be NxD\n",
    "        squared_distances = (diffs * diffs).sum(axis=1) # now just N\n",
    "        weighted_squared_distances = R[:,k]*squared_distances\n",
    "        sigma[k] = np.sqrt( weighted_squared_distances.sum() / R[:,k].sum() )\n",
    "\n",
    "    # calculate Davies-Bouldin Index\n",
    "    dbi = 0\n",
    "    for k in range(K):\n",
    "        max_ratio = 0\n",
    "        for j in range(K):\n",
    "            if k != j:\n",
    "                numerator = sigma[k] + sigma[j]\n",
    "                denominator = np.linalg.norm(M[k] - M[j])\n",
    "                ratio = numerator / denominator\n",
    "                if ratio > max_ratio:\n",
    "                    max_ratio = ratio\n",
    "        dbi += max_ratio\n",
    "    return dbi / K"
   ]
  },
  {
   "cell_type": "code",
   "execution_count": 57,
   "metadata": {},
   "outputs": [
    {
     "data": {
      "text/plain": [
       "0.4142909730002303"
      ]
     },
     "execution_count": 57,
     "metadata": {},
     "output_type": "execute_result"
    }
   ],
   "source": [
    "purity(y,R)"
   ]
  },
  {
   "cell_type": "code",
   "execution_count": 58,
   "metadata": {},
   "outputs": [
    {
     "data": {
      "text/plain": [
       "0.585"
      ]
     },
     "execution_count": 58,
     "metadata": {},
     "output_type": "execute_result"
    }
   ],
   "source": [
    "purity2(y,R)"
   ]
  },
  {
   "cell_type": "code",
   "execution_count": 59,
   "metadata": {},
   "outputs": [
    {
     "data": {
      "text/plain": [
       "19.824012084687"
      ]
     },
     "execution_count": 59,
     "metadata": {},
     "output_type": "execute_result"
    }
   ],
   "source": [
    "DBI(X_scaled,C,R)"
   ]
  },
  {
   "cell_type": "code",
   "execution_count": 61,
   "metadata": {},
   "outputs": [
    {
     "data": {
      "text/plain": [
       "3.221190910726443"
      ]
     },
     "execution_count": 61,
     "metadata": {},
     "output_type": "execute_result"
    }
   ],
   "source": [
    "DBI2(X_scaled,R)"
   ]
  },
  {
   "cell_type": "code",
   "execution_count": null,
   "metadata": {},
   "outputs": [],
   "source": []
  }
 ],
 "metadata": {
  "kernelspec": {
   "display_name": "Python 3",
   "language": "python",
   "name": "python3"
  },
  "language_info": {
   "codemirror_mode": {
    "name": "ipython",
    "version": 3
   },
   "file_extension": ".py",
   "mimetype": "text/x-python",
   "name": "python",
   "nbconvert_exporter": "python",
   "pygments_lexer": "ipython3",
   "version": "3.6.4"
  }
 },
 "nbformat": 4,
 "nbformat_minor": 2
}
